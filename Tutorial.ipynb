{
 "cells": [
  {
   "cell_type": "markdown",
   "id": "7776be0c-ec88-4fc9-952c-8fd7c0617530",
   "metadata": {},
   "source": [
    "# Tests"
   ]
  },
  {
   "cell_type": "code",
   "execution_count": 1,
   "id": "1b5e2396-0d37-4832-a40f-7f1ee2654422",
   "metadata": {},
   "outputs": [
    {
     "name": "stdout",
     "output_type": "stream",
     "text": [
      "Passed the manual regression test\n",
      "Passed the steady-state test\n",
      "Passed the constant-speed state test (1000 trials)\n",
      "Passed the acceleration test (1000 trials)\n",
      "Passed the spinning test (1000 trials)\n",
      "Passed the level turn test (1000 trials)\n"
     ]
    }
   ],
   "source": [
    "# Check evalf works properly\n",
    "!python test_evalf.py"
   ]
  },
  {
   "cell_type": "code",
   "execution_count": 2,
   "id": "22c4447f-9b6f-4d34-b13c-3c08bb0c3152",
   "metadata": {},
   "outputs": [
    {
     "name": "stdout",
     "output_type": "stream",
     "text": [
      "  File \"/Users/youngjinpark/6.7300-project-ev/test_jacobian.py\", line 62\n",
      "    J_ANALYTIC = J_analytic_no_pos]\n",
      "                                  ^\n",
      "SyntaxError: unmatched ']'\n"
     ]
    }
   ],
   "source": [
    "# Check jacobian works properly\n",
    "!python test_jacobian.py"
   ]
  },
  {
   "cell_type": "code",
   "execution_count": 3,
   "id": "3197b70f-e441-4fb9-9761-967dbd364cde",
   "metadata": {},
   "outputs": [
    {
     "name": "stdout",
     "output_type": "stream",
     "text": [
      "============================================================\n",
      "Configuration: OUTPUT_POSITIONS = False\n",
      "Number of states: 8\n",
      "============================================================\n",
      "\n",
      "============================================================\n",
      "JACOBIAN TEST RESULTS\n",
      "============================================================\n",
      "\n",
      "✓ PASSED: Manual Regression (2 trials) [regression]\n",
      "  Max Error: 0.00e+00\n",
      "  Avg Error: 0.00e+00\n",
      "\n",
      "✓ PASSED: Steady State [finite_difference]\n",
      "  Max Error: 9.93e-12\n",
      "  Avg Error: 1.55e-13\n",
      "\n",
      "✓ PASSED: Constant Speed (1000 trials) [finite_difference]\n",
      "  Max Error: 6.47e-06\n",
      "  Avg Error: 2.14e-06\n",
      "\n",
      "✓ PASSED: Acceleration (1000 trials) [finite_difference]\n",
      "  Max Error: 1.60e-04\n",
      "  Avg Error: 5.80e-05\n",
      "\n",
      "✓ PASSED: Spinning (1000 trials) [finite_difference]\n",
      "  Max Error: 5.84e-11\n",
      "  Avg Error: 2.21e-11\n",
      "\n",
      "✓ PASSED: Level Turn (1000 trials) [finite_difference]\n",
      "  Max Error: 6.96e-06\n",
      "  Avg Error: 2.17e-06\n",
      "\n",
      "============================================================\n",
      "Overall: ALL TESTS PASSED\n",
      "Total Trials: 4003\n",
      "Overall Average Error: 1.04e-05\n",
      "============================================================\n"
     ]
    }
   ],
   "source": [
    "# Compare our Jax Jacobian vs. Finite Difference\n",
    "!python test_jacobian_fd.py"
   ]
  },
  {
   "cell_type": "markdown",
   "id": "74a85af0-e473-4891-8846-d336e7efafc9",
   "metadata": {},
   "source": [
    "# Detailed Tutorials"
   ]
  },
  {
   "cell_type": "code",
   "execution_count": 4,
   "id": "a3c14205-f3c1-4d18-84f5-86257437eaca",
   "metadata": {},
   "outputs": [],
   "source": [
    "import jax\n",
    "jax.config.update(\"jax_enable_x64\", True)\n",
    "\n",
    "import jax.numpy as jnp\n",
    "import numpy as np\n",
    "\n",
    "from vehicle_model_jax import evalf, evalf_np, compute_jacobian_jax, get_default_params, OUTPUT_POSITIONS, N_STATES, IDX_V"
   ]
  },
  {
   "cell_type": "markdown",
   "id": "8725f913-cb23-4bde-b023-3294c38f8681",
   "metadata": {},
   "source": [
    "## Get Default Params"
   ]
  },
  {
   "cell_type": "code",
   "execution_count": 5,
   "id": "415cd166-6e2f-4ac9-a7c6-8b3d76da1ca1",
   "metadata": {},
   "outputs": [
    {
     "data": {
      "text/plain": [
       "{'m': 1500,\n",
       " 'I': 2500,\n",
       " 'c_d': 25,\n",
       " 'c_r': 500,\n",
       " 'R_s': 0.1,\n",
       " 'L_ds': 0.002,\n",
       " 'L_qs': 0.003,\n",
       " 'lambda_f': 0.5,\n",
       " 'p_pairs': 4,\n",
       " 'G': 10.0,\n",
       " 'r_w': 0.3,\n",
       " 'eta_g': 0.95,\n",
       " 'k': 31.666666666666668,\n",
       " 'K_p_i': 10.0,\n",
       " 'K_i_i': 100.0,\n",
       " 'K_p_v': 100.0,\n",
       " 'K_i_v': 100.0,\n",
       " 'K_p_theta': 1000.0,\n",
       " 'K_d_theta': 1000.0,\n",
       " 'v_w': 0.0,\n",
       " 'psi': 0.0,\n",
       " 'c_wx': 0.5,\n",
       " 'c_wy': 0.5}"
      ]
     },
     "execution_count": 5,
     "metadata": {},
     "output_type": "execute_result"
    }
   ],
   "source": [
    "p = get_default_params()  # dictionary\n",
    "\n",
    "p"
   ]
  },
  {
   "cell_type": "code",
   "execution_count": 6,
   "id": "a255bdd9-736f-440b-8ac7-881342ad9021",
   "metadata": {},
   "outputs": [
    {
     "data": {
      "text/plain": [
       "(1500,\n",
       " 2500,\n",
       " 25,\n",
       " 500,\n",
       " 0.1,\n",
       " 0.002,\n",
       " 0.003,\n",
       " 0.5,\n",
       " 4,\n",
       " 10.0,\n",
       " 0.3,\n",
       " 0.95,\n",
       " 31.666666666666668,\n",
       " 10.0,\n",
       " 100.0,\n",
       " 100.0,\n",
       " 100.0,\n",
       " 1000.0,\n",
       " 1000.0,\n",
       " 0.0,\n",
       " 0.0,\n",
       " 0.5,\n",
       " 0.5)"
      ]
     },
     "execution_count": 6,
     "metadata": {},
     "output_type": "execute_result"
    }
   ],
   "source": [
    "p_tuple = tuple(p.values())  # tuple\n",
    "\n",
    "p_tuple"
   ]
  },
  {
   "cell_type": "markdown",
   "id": "bfed2fcc-4b90-4e3e-b33a-116bff664bc4",
   "metadata": {},
   "source": [
    "## How to get f(x, u)"
   ]
  },
  {
   "cell_type": "markdown",
   "id": "815efd95-d54f-42fb-b52a-c6e7cc4d34a8",
   "metadata": {},
   "source": [
    "### Using Jax"
   ]
  },
  {
   "cell_type": "code",
   "execution_count": 7,
   "id": "f193e8fd-43f4-4b9d-b828-373f1781f89a",
   "metadata": {},
   "outputs": [
    {
     "data": {
      "text/plain": [
       "Array([ 0.00000000e+00, -5.55555556e+03, -0.00000000e+00,  0.00000000e+00,\n",
       "        0.00000000e+00, -1.70000000e-02,  0.00000000e+00,  0.00000000e+00],      dtype=float64)"
      ]
     },
     "execution_count": 7,
     "metadata": {},
     "output_type": "execute_result"
    }
   ],
   "source": [
    "# Initialize the state, x0\n",
    "x0 = jnp.zeros(N_STATES)  # note that you should use jax numpy array\n",
    "x0 = x0.at[IDX_V].set(1.0)\n",
    "\n",
    "# Initialize the input, u\n",
    "u = jnp.array([1.0, 0.0])\n",
    "\n",
    "f_jax = evalf(x0, p_tuple, u)\n",
    "    \n",
    "f_jax"
   ]
  },
  {
   "cell_type": "code",
   "execution_count": 8,
   "id": "f12010e6-ddbd-457d-bcbd-723e2f401ff8",
   "metadata": {},
   "outputs": [
    {
     "data": {
      "text/plain": [
       "(8,)"
      ]
     },
     "execution_count": 8,
     "metadata": {},
     "output_type": "execute_result"
    }
   ],
   "source": [
    "f_jax.shape"
   ]
  },
  {
   "cell_type": "markdown",
   "id": "abc559aa-1ebb-4810-978e-d0486b39d970",
   "metadata": {},
   "source": [
    "### Using Numpy"
   ]
  },
  {
   "cell_type": "code",
   "execution_count": 9,
   "id": "3e0ed985-f3a1-42f5-b44b-00631dbd2a43",
   "metadata": {},
   "outputs": [
    {
     "data": {
      "text/plain": [
       "Array([[ 0.00000000e+00],\n",
       "       [-5.55555556e+03],\n",
       "       [-0.00000000e+00],\n",
       "       [ 0.00000000e+00],\n",
       "       [ 0.00000000e+00],\n",
       "       [-1.70000000e-02],\n",
       "       [ 0.00000000e+00],\n",
       "       [ 0.00000000e+00]], dtype=float64)"
      ]
     },
     "execution_count": 9,
     "metadata": {},
     "output_type": "execute_result"
    }
   ],
   "source": [
    "x0_np = np.zeros(N_STATES)\n",
    "x0_np[IDX_V] = 1.0\n",
    "x0_np = x0_np[:, None]  # note that you should make (N, 1) matrix when using evalf_np\n",
    "\n",
    "u_np = np.array([1.0, 0.0])\n",
    "\n",
    "f_np = evalf_np(x0_np, p_tuple, u_np)\n",
    "\n",
    "f_np"
   ]
  },
  {
   "cell_type": "code",
   "execution_count": 10,
   "id": "ca321f63-7b2e-4d4e-9de7-d07620038ff5",
   "metadata": {},
   "outputs": [
    {
     "data": {
      "text/plain": [
       "(8, 1)"
      ]
     },
     "execution_count": 10,
     "metadata": {},
     "output_type": "execute_result"
    }
   ],
   "source": [
    "f_np.shape  # note that the output shape is also (N, 1) matrix when using evalf_np"
   ]
  },
  {
   "cell_type": "markdown",
   "id": "bebed665-866f-4a22-9e88-4c412e379e99",
   "metadata": {},
   "source": [
    "## How to get Jacobian?"
   ]
  },
  {
   "cell_type": "code",
   "execution_count": 11,
   "id": "dcd4d705-2bd1-4b22-ae87-8a5d41b9946c",
   "metadata": {},
   "outputs": [
    {
     "data": {
      "text/plain": [
       "Array([[-5.05000000e+03,  5.00000000e+01,  5.00000000e+04,\n",
       "         0.00000000e+00,  0.00000000e+00,  0.00000000e+00,\n",
       "         0.00000000e+00,  0.00000000e+00],\n",
       "       [-2.22222222e+01, -3.36666667e+03,  0.00000000e+00,\n",
       "         3.33333333e+04,  0.00000000e+00, -9.06432749e+03,\n",
       "         0.00000000e+00,  3.50877193e+03],\n",
       "       [-1.00000000e+00,  0.00000000e+00,  0.00000000e+00,\n",
       "         0.00000000e+00,  0.00000000e+00,  0.00000000e+00,\n",
       "         0.00000000e+00,  0.00000000e+00],\n",
       "       [ 0.00000000e+00, -1.00000000e+00,  0.00000000e+00,\n",
       "         0.00000000e+00,  0.00000000e+00, -1.05263158e+00,\n",
       "         0.00000000e+00,  1.05263158e+00],\n",
       "       [ 0.00000000e+00,  0.00000000e+00,  0.00000000e+00,\n",
       "         0.00000000e+00,  0.00000000e+00,  0.00000000e+00,\n",
       "         1.00000000e+00,  0.00000000e+00],\n",
       "       [ 0.00000000e+00,  6.33333333e-02,  0.00000000e+00,\n",
       "         0.00000000e+00,  0.00000000e+00, -1.73333333e-02,\n",
       "         0.00000000e+00,  0.00000000e+00],\n",
       "       [ 0.00000000e+00,  0.00000000e+00,  0.00000000e+00,\n",
       "         0.00000000e+00, -4.00000000e-01,  0.00000000e+00,\n",
       "        -6.00000000e-01,  0.00000000e+00],\n",
       "       [ 0.00000000e+00,  0.00000000e+00,  0.00000000e+00,\n",
       "         0.00000000e+00,  0.00000000e+00, -1.00000000e+00,\n",
       "         0.00000000e+00,  0.00000000e+00]], dtype=float64)"
      ]
     },
     "execution_count": 11,
     "metadata": {},
     "output_type": "execute_result"
    }
   ],
   "source": [
    "J = compute_jacobian_jax(x0, p_tuple, u)\n",
    "\n",
    "J"
   ]
  },
  {
   "cell_type": "code",
   "execution_count": 12,
   "id": "059c3a32-f6c7-4d06-8171-5786150998d1",
   "metadata": {},
   "outputs": [
    {
     "data": {
      "text/plain": [
       "(8, 8)"
      ]
     },
     "execution_count": 12,
     "metadata": {},
     "output_type": "execute_result"
    }
   ],
   "source": [
    "J.shape"
   ]
  },
  {
   "cell_type": "code",
   "execution_count": 13,
   "id": "601de4db-56f0-41ec-b744-831d23b8d97b",
   "metadata": {},
   "outputs": [
    {
     "name": "stdout",
     "output_type": "stream",
     "text": [
      "Condition number: 1096281.9446778735\n"
     ]
    }
   ],
   "source": [
    "condition_number = np.linalg.cond(J)\n",
    "print(\"Condition number:\", condition_number)"
   ]
  },
  {
   "cell_type": "code",
   "execution_count": 14,
   "id": "d1c733e7-04ca-4b9c-9ad1-ea3ed2cfb53b",
   "metadata": {},
   "outputs": [
    {
     "data": {
      "text/plain": [
       "array([[ 1.61972664e-20,  2.02671505e-22, -1.00000000e+00,\n",
       "        -2.09484992e-19, -0.00000000e+00,  2.04017221e-17,\n",
       "        -0.00000000e+00, -2.50624604e-18],\n",
       "       [-1.37168975e-22,  3.13918774e-20, -4.52330507e-19,\n",
       "        -3.26113403e-18, -0.00000000e+00,  1.57894737e+01,\n",
       "        -0.00000000e+00, -2.73684211e-01],\n",
       "       [ 2.00000000e-05, -1.09220554e-23, -1.01000000e-01,\n",
       "        -1.78968501e-20, -0.00000000e+00, -1.57894737e-02,\n",
       "        -0.00000000e+00,  2.73684211e-04],\n",
       "       [-2.20673418e-23,  3.00000000e-05, -6.66666667e-04,\n",
       "        -1.00000000e-01, -0.00000000e+00,  1.57894737e-02,\n",
       "        -0.00000000e+00, -1.66940351e-01],\n",
       "       [-0.00000000e+00, -0.00000000e+00, -0.00000000e+00,\n",
       "        -0.00000000e+00, -1.50000000e+00, -0.00000000e+00,\n",
       "        -2.50000000e+00, -0.00000000e+00],\n",
       "       [-0.00000000e+00, -0.00000000e+00, -0.00000000e+00,\n",
       "        -0.00000000e+00, -0.00000000e+00, -0.00000000e+00,\n",
       "        -0.00000000e+00, -1.00000000e+00],\n",
       "       [ 0.00000000e+00,  0.00000000e+00,  0.00000000e+00,\n",
       "         0.00000000e+00,  1.00000000e+00,  0.00000000e+00,\n",
       "         0.00000000e+00,  0.00000000e+00],\n",
       "       [ 2.28308414e-22, -2.03524070e-20, -1.28726644e-18,\n",
       "         9.50000000e-01,  0.00000000e+00,  1.50000000e+01,\n",
       "         0.00000000e+00, -1.26000000e+00]])"
      ]
     },
     "execution_count": 14,
     "metadata": {},
     "output_type": "execute_result"
    }
   ],
   "source": [
    "np.linalg.inv(J)"
   ]
  },
  {
   "cell_type": "code",
   "execution_count": null,
   "id": "31eba1e3-cf69-4b0b-8da4-8ba665b6ab94",
   "metadata": {},
   "outputs": [],
   "source": []
  }
 ],
 "metadata": {
  "kernelspec": {
   "display_name": "Python (base)",
   "language": "python",
   "name": "python_base"
  },
  "language_info": {
   "codemirror_mode": {
    "name": "ipython",
    "version": 3
   },
   "file_extension": ".py",
   "mimetype": "text/x-python",
   "name": "python",
   "nbconvert_exporter": "python",
   "pygments_lexer": "ipython3",
   "version": "3.12.1"
  }
 },
 "nbformat": 4,
 "nbformat_minor": 5
}
