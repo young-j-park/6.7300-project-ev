{
 "cells": [
  {
   "cell_type": "markdown",
   "id": "7776be0c-ec88-4fc9-952c-8fd7c0617530",
   "metadata": {},
   "source": [
    "# Tests"
   ]
  },
  {
   "cell_type": "code",
   "execution_count": 17,
   "id": "1b5e2396-0d37-4832-a40f-7f1ee2654422",
   "metadata": {},
   "outputs": [
    {
     "name": "stdout",
     "output_type": "stream",
     "text": [
      "OK: steady-state plant consistency\n",
      "OK: hover thrust consistency\n",
      "OK: tilted-thrust consistency\n",
      "OK: differential-thrust spin sign\n",
      "OK: finite-output check under nonzero references\n",
      "OK: yaw damping only gives negative angular accel\n",
      "OK: symmetric motors produce no yaw acceleration at wd=0\n",
      "OK: swapping L/R keeps translational accelerations identical\n",
      "OK: downward velocity adds drag and lifts vertical accel\n",
      "OK: zero damping matches pure thrust projections exactly\n",
      "OK: controller makes right motor ref smaller for +y_ref at theta=0\n",
      "OK: q-axis current integrator increases with positive torque ref\n",
      "OK: motor torque maps to rotor angular acceleration\n",
      "All evalf tests passed\n"
     ]
    }
   ],
   "source": [
    "# Check evalf works properly\n",
    "!python test_evalf_drone.py"
   ]
  },
  {
   "cell_type": "code",
   "execution_count": 18,
   "id": "22c4447f-9b6f-4d34-b13c-3c08bb0c3152",
   "metadata": {},
   "outputs": [
    {
     "name": "stdout",
     "output_type": "stream",
     "text": [
      "[1] Random-state FD vs. JAX Jacobian check\n",
      "  Passed random-state Jacobian tests.\n",
      "[2] Hover-like state FD vs. JAX Jacobian\n",
      "  Passed hover-like Jacobian test.\n",
      "All Jacobian tests passed.\n"
     ]
    }
   ],
   "source": [
    "# Check jacobian works properly\n",
    "!python test_jacobian_drone.py"
   ]
  },
  {
   "cell_type": "code",
   "execution_count": 19,
   "id": "2b099912-2d86-42a6-bedc-bc3945332d0a",
   "metadata": {},
   "outputs": [
    {
     "name": "stdout",
     "output_type": "stream",
     "text": [
      "[Hover] cond2(A) = 4566252.773198845\n",
      "  smax = 58333.20843875658   smin = 0.012774853109564454\n",
      "[Trajectory] cond2 stats: min = 4376983.438743703 median = 4471618.105839111 max = 4566252.77293452\n"
     ]
    }
   ],
   "source": [
    "# Do conditioning analysis\n",
    "!python conditioning_analysis_drone.py"
   ]
  },
  {
   "cell_type": "code",
   "execution_count": 20,
   "id": "51667c54-e26f-47f7-8406-401be4451c1c",
   "metadata": {},
   "outputs": [
    {
     "name": "stdout",
     "output_type": "stream",
     "text": [
      "== (a) FD sensitivities at equilibrium (drone) ==\n",
      "x* = [ 3.65335732e-02  4.42491872e-03 -4.64739902e-18 -5.85755837e-18\n",
      "  1.08498848e+03  9.04157066e-02  3.65335732e-02  4.42491872e-03\n",
      " -2.64899757e-18 -2.71738066e-17  1.08498848e+03  9.04157066e-02\n",
      " -1.94829732e-32  1.18436664e-31  7.17599584e-16 -1.71307684e-15\n",
      "  0.00000000e+00  0.00000000e+00]\n",
      "y* = [ 7.17599584e-16 -1.71307684e-15 -1.94829732e-32]\n",
      "dx*/dp (FD) shape: (18, 34)\n",
      "dy*/dp (FD) shape: (3, 34)\n",
      "dx*/du (FD) shape: (18, 2)\n",
      "dy*/du (FD) shape: (3, 2)\n",
      "[time] FD total = 3.957 s\n",
      "\n",
      "== (b) Step-size sweep for param 'Kp_theta' ==\n",
      "  dp=3.50e-02 -> Δy = [0. 0. 0.]\n",
      "  dp=3.50e-03 -> Δy = [0. 0. 0.]\n",
      "  dp=3.50e-04 -> Δy = [0. 0. 0.]\n",
      "  dp=3.50e-05 -> Δy = [0. 0. 0.]\n",
      "  dp=3.50e-06 -> Δy = [0. 0. 0.]\n",
      "  dp=3.50e-07 -> Δy = [0. 0. 0.]\n",
      "  dp=3.50e-08 -> Δy = [0. 0. 0.]\n",
      "  dp=3.50e-09 -> Δy = [0. 0. 0.]\n",
      "  dp=3.50e-10 -> Δy = [0. 0. 0.]\n",
      "  dp=3.50e-11 -> Δy = [0. 0. 0.]\n",
      "  dp=3.50e-12 -> Δy = [0. 0. 0.]\n",
      "\n",
      "== (b) Step-size sweep for input index 1 ==\n",
      "  du=1.00e-02 -> Δy = [-1.01739370e-15  1.00000000e-02  2.05691071e-32]\n",
      "  du=1.00e-03 -> Δy = [-7.58482961e-16  1.00000000e-03  2.07257720e-32]\n",
      "  du=1.00e-04 -> Δy = [-5.05550901e-16  1.00000000e-04  2.88094554e-32]\n",
      "  du=1.00e-05 -> Δy = [-5.05497503e-16  1.00000000e-05  1.98917015e-32]\n",
      "  du=1.00e-06 -> Δy = [-2.23414357e-15  1.00000000e-06  1.95293994e-32]\n",
      "  du=1.00e-07 -> Δy = [-5.05496047e-16  9.99999995e-08 -2.43389334e-33]\n",
      "  du=1.00e-08 -> Δy = [-1.98139486e-15  1.00000006e-08  1.91220694e-32]\n",
      "  du=1.00e-09 -> Δy = [-1.98139486e-15  1.00000160e-09  2.64855237e-32]\n",
      "  du=1.00e-10 -> Δy = [-1.98139486e-15  9.99999886e-11  5.94394959e-33]\n",
      "  du=1.00e-11 -> Δy = [-1.98139486e-15  9.99982754e-12  7.12489066e-33]\n",
      "  du=1.00e-12 -> Δy = [-1.98139486e-15  9.98783528e-13  2.97977984e-32]\n",
      "\n",
      "== (c,d) Linearization and Adjoint (drone) ==\n",
      "dy*/dp (Adjoint) shape: (3, 34)\n",
      "dy*/du (Adjoint) shape: (3, 2)\n",
      "dx*/dp (Adjoint) shape: (18, 34)\n",
      "dx*/du (Adjoint) shape: (18, 2)\n",
      "\n",
      "[Ranking] |dy*/dp| (Adjoint)\n",
      "  - output[0]\n",
      "     1.             kt :  3.505e-10 (|.|=3.505e-10)\n",
      "     2.             Jd :  5.055e-15 (|.|=5.055e-15)\n",
      "     3.             Bm :  4.813e-15 (|.|=4.813e-15)\n",
      "     4.              r :  2.324e-15 (|.|=2.324e-15)\n",
      "     5.       Kp_pos_y : -8.970e-16 (|.|=8.970e-16)\n",
      "     6.           lamf :  2.250e-16 (|.|=2.250e-16)\n",
      "     7.       Kp_theta : -2.050e-16 (|.|=2.050e-16)\n",
      "     8.            Lqs :  1.608e-16 (|.|=1.608e-16)\n",
      "     9.            Lds : -1.062e-16 (|.|=1.062e-16)\n",
      "    10.              g :  5.107e-17 (|.|=5.107e-17)\n",
      "  - output[1]\n",
      "     1.             kt :  4.657e-10 (|.|=4.657e-10)\n",
      "     2.             Bm :  4.115e-15 (|.|=4.115e-15)\n",
      "     3.       Kp_pos_z :  1.428e-15 (|.|=1.428e-15)\n",
      "     4.              m : -8.882e-16 (|.|=8.882e-16)\n",
      "     5.              g : -3.331e-16 (|.|=3.331e-16)\n",
      "     6.           lamf : -5.207e-17 (|.|=5.207e-17)\n",
      "     7.            Lqs :  3.027e-17 (|.|=3.027e-17)\n",
      "     8.            Lds :  2.387e-17 (|.|=2.387e-17)\n",
      "     9.         Ki_rot :  2.738e-19 (|.|=2.738e-19)\n",
      "    10.             pp : -1.029e-19 (|.|=1.029e-19)\n",
      "  - output[2]\n",
      "     1.             kt :  1.946e-11 (|.|=1.946e-11)\n",
      "     2.             Bm :  2.787e-16 (|.|=2.787e-16)\n",
      "     3.              m : -8.109e-17 (|.|=8.109e-17)\n",
      "     4.              g : -9.919e-18 (|.|=9.919e-18)\n",
      "     5.            Lqs :  3.339e-18 (|.|=3.339e-18)\n",
      "     6.           lamf :  7.930e-19 (|.|=7.930e-19)\n",
      "     7.            Lds : -4.042e-19 (|.|=4.042e-19)\n",
      "     8.         Ki_rot :  7.645e-21 (|.|=7.645e-21)\n",
      "     9.             pp : -6.966e-21 (|.|=6.966e-21)\n",
      "    10.             Jd :  5.273e-32 (|.|=5.273e-32)\n",
      "\n",
      "== (d) Note ==\n",
      "Adjoint solves A^T λ = C^T (q times) and forms dy*/dp = -λ^T E + Dp, dy*/du = -λ^T B + Du. Cost scales with #outputs (q), not #parameters (m).\n"
     ]
    }
   ],
   "source": [
    "# Do sensitivity analysis\n",
    "!python sensitivity_adjoint_drone.py"
   ]
  },
  {
   "cell_type": "code",
   "execution_count": null,
   "id": "ba7aa0ad-5830-4720-8031-bb3d60d1425e",
   "metadata": {},
   "outputs": [],
   "source": []
  }
 ],
 "metadata": {
  "kernelspec": {
   "display_name": "Python 3 (ipykernel)",
   "language": "python",
   "name": "python3"
  },
  "language_info": {
   "codemirror_mode": {
    "name": "ipython",
    "version": 3
   },
   "file_extension": ".py",
   "mimetype": "text/x-python",
   "name": "python",
   "nbconvert_exporter": "python",
   "pygments_lexer": "ipython3",
   "version": "3.13.7"
  }
 },
 "nbformat": 4,
 "nbformat_minor": 5
}
