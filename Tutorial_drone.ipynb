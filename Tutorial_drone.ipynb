{
 "cells": [
  {
   "cell_type": "markdown",
   "id": "7776be0c-ec88-4fc9-952c-8fd7c0617530",
   "metadata": {},
   "source": [
    "# Tests"
   ]
  },
  {
   "cell_type": "code",
   "execution_count": 5,
   "id": "1b5e2396-0d37-4832-a40f-7f1ee2654422",
   "metadata": {},
   "outputs": [
    {
     "name": "stdout",
     "output_type": "stream",
     "text": [
      "OK: steady-state plant consistency\n",
      "OK: hover thrust consistency\n",
      "OK: tilted-thrust consistency\n",
      "OK: differential-thrust spin sign\n",
      "OK: finite-output check under nonzero references\n",
      "OK: yaw damping only gives negative angular accel\n",
      "OK: symmetric motors produce no yaw acceleration at wd=0\n",
      "OK: swapping L/R keeps translational accelerations identical\n",
      "OK: downward velocity adds drag and lifts vertical accel\n",
      "OK: zero damping matches pure thrust projections exactly\n",
      "OK: controller makes right motor ref smaller for +y_ref at theta=0\n",
      "OK: q-axis current integrator increases with positive torque ref\n",
      "OK: motor torque maps to rotor angular acceleration\n",
      "All evalf tests passed\n"
     ]
    }
   ],
   "source": [
    "# Check evalf works properly\n",
    "!python test_evalf_drone.py"
   ]
  },
  {
   "cell_type": "code",
   "execution_count": 6,
   "id": "22c4447f-9b6f-4d34-b13c-3c08bb0c3152",
   "metadata": {},
   "outputs": [
    {
     "name": "stdout",
     "output_type": "stream",
     "text": [
      "[1] Random-state FD vs. JAX Jacobian check\n",
      "  Passed random-state Jacobian tests.\n",
      "[2] Hover-like state FD vs. JAX Jacobian\n",
      "  Passed hover-like Jacobian test.\n",
      "All Jacobian tests passed.\n"
     ]
    }
   ],
   "source": [
    "# Check jacobian works properly\n",
    "!python test_jacobian_drone.py"
   ]
  },
  {
   "cell_type": "code",
   "execution_count": null,
   "id": "2b099912-2d86-42a6-bedc-bc3945332d0a",
   "metadata": {},
   "outputs": [],
   "source": []
  }
 ],
 "metadata": {
  "kernelspec": {
   "display_name": "Python 3 (ipykernel)",
   "language": "python",
   "name": "python3"
  },
  "language_info": {
   "codemirror_mode": {
    "name": "ipython",
    "version": 3
   },
   "file_extension": ".py",
   "mimetype": "text/x-python",
   "name": "python",
   "nbconvert_exporter": "python",
   "pygments_lexer": "ipython3",
   "version": "3.13.7"
  }
 },
 "nbformat": 4,
 "nbformat_minor": 5
}
