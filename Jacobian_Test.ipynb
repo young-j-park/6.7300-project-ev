{
 "cells": [
  {
   "cell_type": "code",
   "execution_count": 1,
   "id": "0d51ed92-c4ba-4d29-88ed-a7d24aabf221",
   "metadata": {},
   "outputs": [],
   "source": [
    "import time\n",
    "\n",
    "import jax\n",
    "jax.config.update(\"jax_enable_x64\", True)\n",
    "\n",
    "import jax.numpy as jnp\n",
    "import numpy as np\n",
    "\n",
    "from vehicle_model_jax import evalf, compute_jacobian_jax, get_default_params\n",
    "\n",
    "def is_close(y, yhat, eps=1e-10):\n",
    "    return np.abs(y - yhat) < eps\n",
    "\n",
    "\n",
    "p = get_default_params()\n",
    "p_tuple = tuple(p.values())\n",
    "\n",
    "x0 = jnp.zeros(10)\n",
    "x0 = x0.at[0].set(1e-5)  # v\n",
    "\n",
    "u = jnp.array([0.0, 0.0])\n",
    "\n",
    "f = evalf(x0, p_tuple, u)\n",
    "\n",
    "J_jax = compute_jacobian_jax(x0, p_tuple, u)"
   ]
  },
  {
   "cell_type": "code",
   "execution_count": 2,
   "id": "b1b5617a-bb20-4919-891f-97dd2527c1e8",
   "metadata": {},
   "outputs": [],
   "source": [
    "J_analytic = {\n",
    "    (0, 0): lambda p, x: (-p['R_s'] - p['K_p_i']) / p['L_ds'],\n",
    "    (0, 1): lambda p, x: (p['G'] / p['r_w'] * x[7]) * p['L_qs'] / p['L_ds'],\n",
    "    (0, 2): lambda p, x: p['K_i_i'] / p['L_ds'],\n",
    "    \n",
    "    (1, 0): lambda p, x: -(p['G'] / p['r_w'] * x[7]) * p['L_ds'] / p['L_qs'],\n",
    "    (1, 1): lambda p, x: (-p['R_s'] - p['K_p_i']) / p['L_qs'],\n",
    "    (1, 3): lambda p, x: p['K_i_i'] / p['L_qs'],\n",
    "    \n",
    "    (2, 0): lambda p, x: -1.0,\n",
    "    (3, 1): lambda p, x: -1.0,\n",
    "    \n",
    "    (4, 6): lambda p, x: -x[7] * np.sin(x[6]),\n",
    "    (4, 7): lambda p, x: np.cos(x[6]),\n",
    "    \n",
    "    (5, 6): lambda p, x: x[7] * np.cos(x[6]),\n",
    "    (5, 7): lambda p, x: np.sin(x[6]),\n",
    "    \n",
    "    (6, 8): lambda p, x: 1.0,\n",
    "    \n",
    "    (7, 1): lambda p, x: (p['k'] * (3/2) * p['p_pairs'] * p['lambda_f']) / p['m'],\n",
    "    \n",
    "    (8, 6): lambda p, x: -p['K_p_theta'] / p['I'],\n",
    "    (8, 8): lambda p, x: (-p['K_d_theta'] - p['c_r']) / p['I'],\n",
    "    \n",
    "    (9, 7): lambda p, x: -1.0,\n",
    "}"
   ]
  },
  {
   "cell_type": "code",
   "execution_count": 3,
   "id": "9d153c47-6c32-497f-b4b9-d3046b4560ce",
   "metadata": {
    "scrolled": true
   },
   "outputs": [
    {
     "name": "stdout",
     "output_type": "stream",
     "text": [
      "Passed the constant-speed state test (1000 trials)\n"
     ]
    }
   ],
   "source": [
    "# 2. Constant Speed\n",
    "n_trials = 1000\n",
    "for _ in range(n_trials):\n",
    "    v0 = np.random.rand() * 10.0\n",
    "    \n",
    "    x0 = jnp.zeros(10)\n",
    "    x0 = x0.at[7].set(v0)  # v\n",
    "    u = jnp.array([v0, 0.0])\n",
    "    \n",
    "    J_jax = compute_jacobian_jax(x0, p_tuple, u)\n",
    "    for (i, j), J_val_func in J_analytic.items():\n",
    "        # print(i,j)\n",
    "        assert is_close(J_jax[i, j], J_val_func(p, x0), eps=1e-10)\n",
    "\n",
    "print(f\"Passed the constant-speed state test ({n_trials} trials)\")\n"
   ]
  },
  {
   "cell_type": "code",
   "execution_count": 4,
   "id": "021a6f85-a441-4df5-b667-62bbeb3fe39d",
   "metadata": {
    "scrolled": true
   },
   "outputs": [
    {
     "data": {
      "text/plain": [
       "{'m': 1500,\n",
       " 'I': 2500,\n",
       " 'c_d': 25,\n",
       " 'c_r': 500,\n",
       " 'R_s': 0.1,\n",
       " 'L_ds': 0.002,\n",
       " 'L_qs': 0.003,\n",
       " 'lambda_f': 0.5,\n",
       " 'p_pairs': 4,\n",
       " 'G': 10.0,\n",
       " 'r_w': 0.3,\n",
       " 'eta_g': 0.95,\n",
       " 'k': 31.666666666666668,\n",
       " 'K_p_i': 10.0,\n",
       " 'K_i_i': 100.0,\n",
       " 'K_p_v': 100.0,\n",
       " 'K_i_v': 100.0,\n",
       " 'K_p_theta': 1000.0,\n",
       " 'K_d_theta': 1000.0,\n",
       " 'v_w': 0.0,\n",
       " 'psi': 0.0,\n",
       " 'c_wx': 0.5,\n",
       " 'c_wy': 0.5}"
      ]
     },
     "execution_count": 4,
     "metadata": {},
     "output_type": "execute_result"
    }
   ],
   "source": [
    "p"
   ]
  },
  {
   "cell_type": "code",
   "execution_count": 5,
   "id": "b3978fd7-5ecb-4d99-9f18-5e3f4fdcbfd3",
   "metadata": {},
   "outputs": [
    {
     "data": {
      "text/plain": [
       "0.016666666666666666"
      ]
     },
     "execution_count": 5,
     "metadata": {},
     "output_type": "execute_result"
    }
   ],
   "source": [
    "25/1500"
   ]
  },
  {
   "cell_type": "code",
   "execution_count": 6,
   "id": "740c9b45-f934-425c-ab66-9e00ce52c974",
   "metadata": {},
   "outputs": [
    {
     "data": {
      "text/plain": [
       "Array(-0.1200437, dtype=float64)"
      ]
     },
     "execution_count": 6,
     "metadata": {},
     "output_type": "execute_result"
    }
   ],
   "source": [
    "x0 = x0.at[7].set(v0)  # v\n",
    "evalf(x0, p_tuple, u)[7]"
   ]
  },
  {
   "cell_type": "code",
   "execution_count": 7,
   "id": "c1dbdfb4-1fec-482b-b7f3-f683640ce9e5",
   "metadata": {},
   "outputs": [
    {
     "data": {
      "text/plain": [
       "Array(-0.12004387, dtype=float64)"
      ]
     },
     "execution_count": 7,
     "metadata": {},
     "output_type": "execute_result"
    }
   ],
   "source": [
    "x0 = x0.at[7].set(v0 + 1e-5)  # v\n",
    "\n",
    "evalf(x0, p_tuple, u)[7]"
   ]
  },
  {
   "cell_type": "code",
   "execution_count": 8,
   "id": "45038a57-c812-4586-a339-f69b5d2861db",
   "metadata": {},
   "outputs": [
    {
     "data": {
      "text/plain": [
       "-1.900000000110147e-07"
      ]
     },
     "execution_count": 8,
     "metadata": {},
     "output_type": "execute_result"
    }
   ],
   "source": [
    "-0.06334509 - (-0.0633449)"
   ]
  },
  {
   "cell_type": "code",
   "execution_count": 9,
   "id": "6b3ba0d4-60b3-4e14-b33c-fd452f51e852",
   "metadata": {},
   "outputs": [
    {
     "data": {
      "text/plain": [
       "Array(-1., dtype=float64)"
      ]
     },
     "execution_count": 9,
     "metadata": {},
     "output_type": "execute_result"
    }
   ],
   "source": [
    "J_jax[i, j]"
   ]
  },
  {
   "cell_type": "code",
   "execution_count": 10,
   "id": "a326e54e-210f-4790-aecf-1fd0eaff933e",
   "metadata": {},
   "outputs": [
    {
     "data": {
      "text/plain": [
       "-1.0"
      ]
     },
     "execution_count": 10,
     "metadata": {},
     "output_type": "execute_result"
    }
   ],
   "source": [
    "J_val_func(p, x0)"
   ]
  },
  {
   "cell_type": "code",
   "execution_count": 11,
   "id": "b516f825-0f2a-4d6e-83e0-d86b9ea108e0",
   "metadata": {},
   "outputs": [
    {
     "name": "stdout",
     "output_type": "stream",
     "text": [
      "Passed the accelration test (1000 trials)\n",
      "Passed the spinning test (1000 trials)\n",
      "Passed the level turn test (1000 trials)\n"
     ]
    }
   ],
   "source": [
    "\n",
    "# 3. Acceleration\n",
    "n_trials = 1000\n",
    "for _ in range(n_trials):\n",
    "    v0 = np.random.rand() * 10.0\n",
    "    \n",
    "    x0 = jnp.zeros(10)\n",
    "    u = jnp.array([v0, 0.0])\n",
    "    \n",
    "    J_jax = compute_jacobian_jax(x0, p_tuple, u)\n",
    "    for (i, j), J_val_func in J_analytic.items():\n",
    "        assert is_close(J_jax[i, j], J_val_func(p, x0), eps=1e-10)\n",
    "\n",
    "print(f\"Passed the accelration test ({n_trials} trials)\")\n",
    "\n",
    "# 4. Spin\n",
    "n_trials = 1000\n",
    "for _ in range(n_trials):\n",
    "    w0 = np.random.rand() * np.pi/2\n",
    "    \n",
    "    x0 = jnp.zeros(10)\n",
    "    u = jnp.array([0.0, w0])\n",
    "    \n",
    "    J_jax = compute_jacobian_jax(x0, p_tuple, u)\n",
    "    for (i, j), J_val_func in J_analytic.items():\n",
    "        assert is_close(J_jax[i, j], J_val_func(p, x0), eps=1e-10)\n",
    "\n",
    "print(f\"Passed the spinning test ({n_trials} trials)\")\n",
    "\n",
    "# 5. Level Turn\n",
    "n_trials = 1000\n",
    "for _ in range(n_trials):\n",
    "    v0 = np.random.rand() * 10.0\n",
    "    w0 = np.random.rand() * np.pi/2\n",
    "    \n",
    "    x0 = jnp.zeros(10)\n",
    "    x0 = x0.at[7].set(v0)  # v\n",
    "    u = jnp.array([v0, w0])\n",
    "    \n",
    "    J_jax = compute_jacobian_jax(x0, p_tuple, u)\n",
    "    for (i, j), J_val_func in J_analytic.items():\n",
    "        assert is_close(J_jax[i, j], J_val_func(p, x0), eps=1e-10)\n",
    "\n",
    "print(f\"Passed the level turn test ({n_trials} trials)\")"
   ]
  },
  {
   "cell_type": "code",
   "execution_count": 12,
   "id": "0ab9f8cd-aef0-46b5-9aa3-f6bbac2ef911",
   "metadata": {},
   "outputs": [
    {
     "data": {
      "text/plain": [
       "(Array(-1., dtype=float64), -1.0)"
      ]
     },
     "execution_count": 12,
     "metadata": {},
     "output_type": "execute_result"
    }
   ],
   "source": [
    "J_jax[i, j], J_val_func(p, x0)"
   ]
  },
  {
   "cell_type": "code",
   "execution_count": 13,
   "id": "099501d5-e09b-457c-9e89-2ad1d676f3ed",
   "metadata": {},
   "outputs": [
    {
     "name": "stderr",
     "output_type": "stream",
     "text": [
      "/Users/youngjinpark/miniconda3/lib/python3.12/pty.py:95: RuntimeWarning: os.fork() was called. os.fork() is incompatible with multithreaded code, and JAX is multithreaded, so this will likely lead to a deadlock.\n",
      "  pid, fd = os.forkpty()\n"
     ]
    },
    {
     "name": "stdout",
     "output_type": "stream",
     "text": [
      "Passed the steady-state test\n",
      "Passed the constant-speed state test (1000 trials)\n",
      "Passed the accelration test (1000 trials)\n",
      "Passed the spinning test (1000 trials)\n",
      "Passed the level turn test (1000 trials)\n"
     ]
    }
   ],
   "source": [
    "!python test_jacobian.py"
   ]
  },
  {
   "cell_type": "code",
   "execution_count": null,
   "id": "51f13aec-0410-4ffc-b08e-199a0057a4cf",
   "metadata": {},
   "outputs": [],
   "source": []
  }
 ],
 "metadata": {
  "kernelspec": {
   "display_name": "Python (base)",
   "language": "python",
   "name": "python_base"
  },
  "language_info": {
   "codemirror_mode": {
    "name": "ipython",
    "version": 3
   },
   "file_extension": ".py",
   "mimetype": "text/x-python",
   "name": "python",
   "nbconvert_exporter": "python",
   "pygments_lexer": "ipython3",
   "version": "3.12.1"
  }
 },
 "nbformat": 4,
 "nbformat_minor": 5
}
