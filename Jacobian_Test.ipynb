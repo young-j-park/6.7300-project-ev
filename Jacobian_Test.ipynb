{
 "cells": [
  {
   "cell_type": "code",
   "execution_count": 1,
   "id": "0d51ed92-c4ba-4d29-88ed-a7d24aabf221",
   "metadata": {},
   "outputs": [],
   "source": [
    "import time\n",
    "\n",
    "import jax.numpy as jnp\n",
    "import numpy as np\n",
    "\n",
    "from vehicle_model_jax import compute_jacobian_jax, get_default_params"
   ]
  },
  {
   "cell_type": "code",
   "execution_count": 2,
   "id": "e5241cc2-731d-432a-83bb-1ef1b3f6f486",
   "metadata": {},
   "outputs": [],
   "source": [
    "p = get_default_params()\n",
    "p_tuple = tuple(p.values())"
   ]
  },
  {
   "cell_type": "code",
   "execution_count": 6,
   "id": "088a5159-6540-4e3d-8046-bf5893f66784",
   "metadata": {},
   "outputs": [
    {
     "name": "stdout",
     "output_type": "stream",
     "text": [
      "[[-5.0499995e+03  0.0000000e+00  4.9999996e+04  0.0000000e+00\n",
      "   0.0000000e+00  0.0000000e+00  0.0000000e+00  0.0000000e+00\n",
      "   0.0000000e+00  0.0000000e+00]\n",
      " [ 0.0000000e+00 -3.3666667e+03  0.0000000e+00  3.3333336e+04\n",
      "   0.0000000e+00  0.0000000e+00  0.0000000e+00 -9.0643281e+03\n",
      "   0.0000000e+00  3.5087722e+03]\n",
      " [-1.0000000e+00  0.0000000e+00  0.0000000e+00  0.0000000e+00\n",
      "   0.0000000e+00  0.0000000e+00  0.0000000e+00  0.0000000e+00\n",
      "   0.0000000e+00  0.0000000e+00]\n",
      " [ 0.0000000e+00 -1.0000000e+00  0.0000000e+00  0.0000000e+00\n",
      "   0.0000000e+00  0.0000000e+00  0.0000000e+00 -1.0526316e+00\n",
      "   0.0000000e+00  1.0526316e+00]\n",
      " [ 0.0000000e+00  0.0000000e+00  0.0000000e+00  0.0000000e+00\n",
      "   0.0000000e+00  0.0000000e+00  0.0000000e+00  1.0000000e+00\n",
      "   0.0000000e+00  0.0000000e+00]\n",
      " [ 0.0000000e+00  0.0000000e+00  0.0000000e+00  0.0000000e+00\n",
      "   0.0000000e+00  0.0000000e+00  0.0000000e+00  0.0000000e+00\n",
      "   0.0000000e+00  0.0000000e+00]\n",
      " [ 0.0000000e+00  0.0000000e+00  0.0000000e+00  0.0000000e+00\n",
      "   0.0000000e+00  0.0000000e+00  0.0000000e+00  0.0000000e+00\n",
      "   1.0000000e+00  0.0000000e+00]\n",
      " [ 0.0000000e+00  6.3333333e-02  0.0000000e+00  0.0000000e+00\n",
      "   0.0000000e+00  0.0000000e+00  0.0000000e+00 -1.6666666e-02\n",
      "   0.0000000e+00  0.0000000e+00]\n",
      " [ 0.0000000e+00  0.0000000e+00  0.0000000e+00  0.0000000e+00\n",
      "   0.0000000e+00  0.0000000e+00 -3.9999998e-01  0.0000000e+00\n",
      "  -5.9999996e-01  0.0000000e+00]\n",
      " [ 0.0000000e+00  0.0000000e+00  0.0000000e+00  0.0000000e+00\n",
      "   0.0000000e+00  0.0000000e+00  0.0000000e+00 -1.0000000e+00\n",
      "   0.0000000e+00  0.0000000e+00]]\n"
     ]
    }
   ],
   "source": [
    "x0 = jnp.zeros(10)\n",
    "u = jnp.array([0.0, 0.0])\n",
    "\n",
    "J_jax = compute_jacobian_jax(x0, p_tuple, u)\n",
    "print(J_jax)"
   ]
  },
  {
   "cell_type": "code",
   "execution_count": null,
   "id": "0fa5fd58-adba-49fe-872b-7cb2b46bb437",
   "metadata": {},
   "outputs": [],
   "source": []
  }
 ],
 "metadata": {
  "kernelspec": {
   "display_name": "Python (base)",
   "language": "python",
   "name": "python_base"
  },
  "language_info": {
   "codemirror_mode": {
    "name": "ipython",
    "version": 3
   },
   "file_extension": ".py",
   "mimetype": "text/x-python",
   "name": "python",
   "nbconvert_exporter": "python",
   "pygments_lexer": "ipython3",
   "version": "3.12.1"
  }
 },
 "nbformat": 4,
 "nbformat_minor": 5
}
