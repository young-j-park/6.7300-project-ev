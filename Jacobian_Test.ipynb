{
 "cells": [
  {
   "cell_type": "code",
   "execution_count": 1,
   "id": "0d51ed92-c4ba-4d29-88ed-a7d24aabf221",
   "metadata": {},
   "outputs": [],
   "source": [
    "import time\n",
    "\n",
    "import jax\n",
    "jax.config.update(\"jax_enable_x64\", True)\n",
    "\n",
    "import jax.numpy as jnp\n",
    "import numpy as np\n",
    "\n",
    "from vehicle_model_jax import evalf, compute_jacobian_jax, get_default_params\n",
    "\n",
    "def test_error(y, yhat, eps=1e-8):\n",
    "    return np.abs(y - yhat) < eps\n",
    "\n",
    "\n",
    "p = get_default_params()\n",
    "p_tuple = tuple(p.values())\n",
    "\n",
    "x0 = jnp.zeros(10)\n",
    "x0 = x0.at[0].set(1e-5)  # v\n",
    "\n",
    "u = jnp.array([0.0, 0.0])\n",
    "\n",
    "f = evalf(x0, p_tuple, u)\n",
    "\n",
    "J_jax = compute_jacobian_jax(x0, p_tuple, u)\n",
    "\n",
    "J00 = (-p['R_s'] - p['K_p_i']) / p['L_ds'] \n",
    "assert test_error(J_jax[0, 0], J00, eps=1e-10)"
   ]
  },
  {
   "cell_type": "code",
   "execution_count": 10,
   "id": "9d098dc3-32aa-4277-8f41-6f665188c0f0",
   "metadata": {},
   "outputs": [
    {
     "data": {
      "text/plain": [
       "Array([[-5.05000000e+03,  0.00000000e+00,  5.00000000e+04,\n",
       "         0.00000000e+00,  0.00000000e+00,  0.00000000e+00,\n",
       "         0.00000000e+00,  0.00000000e+00,  0.00000000e+00,\n",
       "         0.00000000e+00],\n",
       "       [ 0.00000000e+00, -3.36666667e+03,  0.00000000e+00,\n",
       "         3.33333333e+04,  0.00000000e+00,  0.00000000e+00,\n",
       "         0.00000000e+00, -9.06432771e+03,  0.00000000e+00,\n",
       "         3.50877193e+03],\n",
       "       [-1.00000000e+00,  0.00000000e+00,  0.00000000e+00,\n",
       "         0.00000000e+00,  0.00000000e+00,  0.00000000e+00,\n",
       "         0.00000000e+00,  0.00000000e+00,  0.00000000e+00,\n",
       "         0.00000000e+00],\n",
       "       [ 0.00000000e+00, -1.00000000e+00,  0.00000000e+00,\n",
       "         0.00000000e+00,  0.00000000e+00,  0.00000000e+00,\n",
       "         0.00000000e+00, -1.05263158e+00,  0.00000000e+00,\n",
       "         1.05263158e+00],\n",
       "       [ 0.00000000e+00,  0.00000000e+00,  0.00000000e+00,\n",
       "         0.00000000e+00,  0.00000000e+00,  0.00000000e+00,\n",
       "         0.00000000e+00,  1.00000000e+00,  0.00000000e+00,\n",
       "         0.00000000e+00],\n",
       "       [ 0.00000000e+00,  0.00000000e+00,  0.00000000e+00,\n",
       "         0.00000000e+00,  0.00000000e+00,  0.00000000e+00,\n",
       "         0.00000000e+00,  0.00000000e+00,  0.00000000e+00,\n",
       "         0.00000000e+00],\n",
       "       [ 0.00000000e+00,  0.00000000e+00,  0.00000000e+00,\n",
       "         0.00000000e+00,  0.00000000e+00,  0.00000000e+00,\n",
       "         0.00000000e+00,  0.00000000e+00,  1.00000000e+00,\n",
       "         0.00000000e+00],\n",
       "       [ 0.00000000e+00,  6.33333333e-02,  0.00000000e+00,\n",
       "         0.00000000e+00,  0.00000000e+00,  0.00000000e+00,\n",
       "         0.00000000e+00, -1.66666667e-02,  0.00000000e+00,\n",
       "         0.00000000e+00],\n",
       "       [ 0.00000000e+00,  0.00000000e+00,  0.00000000e+00,\n",
       "         0.00000000e+00,  0.00000000e+00,  0.00000000e+00,\n",
       "        -4.00000000e-01,  0.00000000e+00, -6.00000000e-01,\n",
       "         0.00000000e+00],\n",
       "       [ 0.00000000e+00,  0.00000000e+00,  0.00000000e+00,\n",
       "         0.00000000e+00,  0.00000000e+00,  0.00000000e+00,\n",
       "         0.00000000e+00, -1.00000000e+00,  0.00000000e+00,\n",
       "         0.00000000e+00]], dtype=float64)"
      ]
     },
     "execution_count": 10,
     "metadata": {},
     "output_type": "execute_result"
    }
   ],
   "source": [
    "J_jax"
   ]
  },
  {
   "cell_type": "code",
   "execution_count": 3,
   "id": "e5241cc2-731d-432a-83bb-1ef1b3f6f486",
   "metadata": {},
   "outputs": [],
   "source": []
  },
  {
   "cell_type": "code",
   "execution_count": 4,
   "id": "088a5159-6540-4e3d-8046-bf5893f66784",
   "metadata": {
    "scrolled": true
   },
   "outputs": [],
   "source": []
  },
  {
   "cell_type": "code",
   "execution_count": 5,
   "id": "9d153c47-6c32-497f-b4b9-d3046b4560ce",
   "metadata": {},
   "outputs": [],
   "source": []
  },
  {
   "cell_type": "code",
   "execution_count": null,
   "id": "a5359c41-5cb5-4c3c-a139-ead1adc6bd04",
   "metadata": {},
   "outputs": [],
   "source": []
  }
 ],
 "metadata": {
  "kernelspec": {
   "display_name": "Python (base)",
   "language": "python",
   "name": "python_base"
  },
  "language_info": {
   "codemirror_mode": {
    "name": "ipython",
    "version": 3
   },
   "file_extension": ".py",
   "mimetype": "text/x-python",
   "name": "python",
   "nbconvert_exporter": "python",
   "pygments_lexer": "ipython3",
   "version": "3.12.1"
  }
 },
 "nbformat": 4,
 "nbformat_minor": 5
}
