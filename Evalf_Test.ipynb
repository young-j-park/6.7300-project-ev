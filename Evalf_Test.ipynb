{
 "cells": [
  {
   "cell_type": "code",
   "execution_count": 2,
   "id": "ec2b3330-ca09-46f0-8971-c5ea2ca85eec",
   "metadata": {},
   "outputs": [],
   "source": [
    "import time\n",
    "\n",
    "import jax.numpy as jnp\n",
    "import numpy as np\n",
    "\n",
    "from vehicle_model_jax import evalf, get_default_params"
   ]
  },
  {
   "cell_type": "code",
   "execution_count": 8,
   "id": "e2b8365b-143b-4be8-b7c7-ccffee65b653",
   "metadata": {
    "scrolled": true
   },
   "outputs": [],
   "source": [
    "p = get_default_params()\n",
    "p_tuple = tuple(p.values())"
   ]
  },
  {
   "cell_type": "code",
   "execution_count": 11,
   "id": "2193a5f3-35ec-4958-9008-f00eecec4673",
   "metadata": {},
   "outputs": [
    {
     "name": "stdout",
     "output_type": "stream",
     "text": [
      "[ 0.  0. -0.  0.  0.  0.  0.  0.  0.  0.]\n"
     ]
    }
   ],
   "source": [
    "# 1. Steady State\n",
    "x0 = jnp.zeros(10)\n",
    "u = jnp.array([0.0, 0.0])\n",
    "\n",
    "f = evalf(x0, p_tuple, u)\n",
    "print(f)\n",
    "\n",
    "assert np.all(f == 0.0)"
   ]
  },
  {
   "cell_type": "code",
   "execution_count": 27,
   "id": "976bd4a1-f6f2-485e-969c-f1a06ec5fa32",
   "metadata": {},
   "outputs": [
    {
     "name": "stdout",
     "output_type": "stream",
     "text": [
      "[ 0.0000000e+00 -5.5555555e+04 -0.0000000e+00  0.0000000e+00\n",
      "  1.0000000e+01  0.0000000e+00  0.0000000e+00 -2.0000000e-01\n",
      "  0.0000000e+00  0.0000000e+00]\n"
     ]
    }
   ],
   "source": [
    "# 2. Constant Speed\n",
    "x0 = jnp.zeros(10)\n",
    "x0 = x0.at[7].set(10.0)  # v\n",
    "u = jnp.array([10.0, 0.0])\n",
    "\n",
    "f = evalf(x0, p_tuple, u)\n",
    "print(f)\n",
    "\n",
    "assert f[4] == x0[7]  # velocity\n",
    "assert f[7] < 0.0  # wind"
   ]
  },
  {
   "cell_type": "code",
   "execution_count": 19,
   "id": "26055532-aea9-4866-99d3-2a4ae0b93b41",
   "metadata": {},
   "outputs": [
    {
     "name": "stdout",
     "output_type": "stream",
     "text": [
      "[1.1070818e+03 7.0206531e+04 2.2141637e-01 2.1061958e+01 0.0000000e+00\n",
      " 0.0000000e+00 0.0000000e+00 0.0000000e+00 0.0000000e+00 2.0000000e+01]\n"
     ]
    }
   ],
   "source": [
    "# 3. Speed-Up\n",
    "x0 = jnp.zeros(10)\n",
    "u = jnp.array([20.0, 0.0])\n",
    "\n",
    "f = evalf(x0, p_tuple, u)\n",
    "print(f)\n",
    "\n",
    "assert f[9] == u[0]"
   ]
  },
  {
   "cell_type": "code",
   "execution_count": 31,
   "id": "2107137e-c942-4dcf-b93d-b508c83bdb9d",
   "metadata": {},
   "outputs": [
    {
     "name": "stdout",
     "output_type": "stream",
     "text": [
      "[ 0.          0.         -0.          0.          0.          0.\n",
      "  0.          0.          0.39999998  0.        ]\n"
     ]
    }
   ],
   "source": [
    "# 4. Spin\n",
    "x0 = jnp.zeros(10)\n",
    "u = jnp.array([0.0, 1.0])\n",
    "\n",
    "f = evalf(x0, p_tuple, u)\n",
    "print(f)\n",
    "\n",
    "assert f[8] > 0.0  # angular acceleration\n",
    "assert np.all(f[:8] == 0.0) & np.all(f[9:] == 0.0)"
   ]
  },
  {
   "cell_type": "code",
   "execution_count": 32,
   "id": "7c3a6f98-be59-4ed6-ac5b-ee784803d897",
   "metadata": {},
   "outputs": [
    {
     "name": "stdout",
     "output_type": "stream",
     "text": [
      "[ 0.0000000e+00 -5.5555555e+04 -0.0000000e+00  0.0000000e+00\n",
      "  1.0000000e+01  0.0000000e+00  0.0000000e+00 -2.0000000e-01\n",
      "  3.9999998e-01  0.0000000e+00]\n"
     ]
    }
   ],
   "source": [
    "# 5. Turn\n",
    "x0 = jnp.zeros(10)\n",
    "x0 = x0.at[7].set(10.0)  # v\n",
    "u = jnp.array([10.0, 1.0])\n",
    "\n",
    "f = evalf(x0, p_tuple, u)\n",
    "print(f)\n",
    "\n",
    "assert f[4] == x0[7]  # velocity\n",
    "assert f[7] < 0.0  # wind\n",
    "assert f[8] > 0.0  # angular acceleration"
   ]
  },
  {
   "cell_type": "code",
   "execution_count": null,
   "id": "f2296d4f-ca7c-4ef8-a21e-7a941325f814",
   "metadata": {},
   "outputs": [],
   "source": []
  }
 ],
 "metadata": {
  "kernelspec": {
   "display_name": "Python (base)",
   "language": "python",
   "name": "python_base"
  },
  "language_info": {
   "codemirror_mode": {
    "name": "ipython",
    "version": 3
   },
   "file_extension": ".py",
   "mimetype": "text/x-python",
   "name": "python",
   "nbconvert_exporter": "python",
   "pygments_lexer": "ipython3",
   "version": "3.12.1"
  }
 },
 "nbformat": 4,
 "nbformat_minor": 5
}
