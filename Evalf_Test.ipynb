{
 "cells": [
  {
   "cell_type": "code",
   "execution_count": 2,
   "id": "ec2b3330-ca09-46f0-8971-c5ea2ca85eec",
   "metadata": {},
   "outputs": [],
   "source": [
    "import time\n",
    "\n",
    "import jax.numpy as jnp\n",
    "import numpy as np\n",
    "\n",
    "from vehicle_model_jax import evalf, get_default_params"
   ]
  },
  {
   "cell_type": "code",
   "execution_count": 8,
   "id": "e2b8365b-143b-4be8-b7c7-ccffee65b653",
   "metadata": {
    "scrolled": true
   },
   "outputs": [],
   "source": [
    "p = get_default_params()\n",
    "p_tuple = tuple(p.values())"
   ]
  },
  {
   "cell_type": "code",
   "execution_count": 60,
   "id": "2193a5f3-35ec-4958-9008-f00eecec4673",
   "metadata": {},
   "outputs": [
    {
     "name": "stdout",
     "output_type": "stream",
     "text": [
      "Passed the steady-state test\n"
     ]
    }
   ],
   "source": [
    "# 1. Steady State\n",
    "x0 = jnp.zeros(10)\n",
    "u = jnp.array([0.0, 0.0])\n",
    "\n",
    "f = evalf(x0, p_tuple, u)\n",
    "# print(f)\n",
    "\n",
    "assert np.all(f == 0.0)\n",
    "\n",
    "print(\"Passed the steady-state test\")"
   ]
  },
  {
   "cell_type": "code",
   "execution_count": 61,
   "id": "976bd4a1-f6f2-485e-969c-f1a06ec5fa32",
   "metadata": {},
   "outputs": [
    {
     "name": "stdout",
     "output_type": "stream",
     "text": [
      "Passed the constant-speed state test (1000 trials)\n"
     ]
    }
   ],
   "source": [
    "# 2. Constant Speed\n",
    "n_trials = 1000\n",
    "for _ in range(n_trials):\n",
    "    v0 = np.random.rand() * 10.0\n",
    "    \n",
    "    x0 = jnp.zeros(10)\n",
    "    x0 = x0.at[7].set(v0)  # v\n",
    "    u = jnp.array([v0, 0.0])\n",
    "    \n",
    "    f = evalf(x0, p_tuple, u)\n",
    "\n",
    "    assert f[0] == 0  # ? @FIXME, Inwhi\n",
    "    assert f[1] < 0  # ? @FIXME, Inwhi\n",
    "    assert f[2] == 0  # ? @FIXME, Inwhi\n",
    "    assert f[3] == 0  # ? @FIXME, Inwhi\n",
    "    assert f[4] == x0[7]  # longitudinal speed\n",
    "    assert f[5] == 0.0  # zero lateral speed\n",
    "    assert f[6] == 0.0  # zero angular speed\n",
    "    assert f[7] < 0.0  # drag\n",
    "    assert f[8] == 0.0  # zero angular acceleration\n",
    "    assert f[9] == 0.0  # no speed delta needed\n",
    "\n",
    "print(f\"Passed the constant-speed state test ({n_trials} trials)\")"
   ]
  },
  {
   "cell_type": "code",
   "execution_count": 62,
   "id": "26055532-aea9-4866-99d3-2a4ae0b93b41",
   "metadata": {},
   "outputs": [
    {
     "name": "stdout",
     "output_type": "stream",
     "text": [
      "Passed the accelration test (1000 trials)\n"
     ]
    }
   ],
   "source": [
    "# 3. Acceleration\n",
    "n_trials = 1000\n",
    "for _ in range(n_trials):\n",
    "    v0 = np.random.rand() * 10.0\n",
    "    \n",
    "    x0 = jnp.zeros(10)\n",
    "    u = jnp.array([v0, 0.0])\n",
    "    \n",
    "    f = evalf(x0, p_tuple, u)\n",
    "\n",
    "    assert f[1] > 0  # ? @FIXME, Inwhi\n",
    "    assert f[3] > 0  # ? @FIXME, Inwhi\n",
    "    assert f[4] == 0.0  # zero longitudinal speed\n",
    "    assert f[5] == 0.0  # zero lateral speed\n",
    "    assert f[6] == 0.0  # zero angular speed\n",
    "    assert f[7] == 0.0  # zero longitudinal external force \n",
    "    assert f[8] == 0.0  # zero angular acceleration\n",
    "    assert f[9] == u[0]  # speed delta\n",
    "\n",
    "print(f\"Passed the accelration test ({n_trials} trials)\")"
   ]
  },
  {
   "cell_type": "code",
   "execution_count": 68,
   "id": "b1fa6ebd-cb47-4a5b-98ff-dd07b55728aa",
   "metadata": {},
   "outputs": [
    {
     "name": "stdout",
     "output_type": "stream",
     "text": [
      "Passed the spinning test (1000 trials)\n"
     ]
    }
   ],
   "source": [
    "# 4. Spin\n",
    "n_trials = 1000\n",
    "for _ in range(n_trials):\n",
    "    w0 = np.random.rand() * np.pi/2\n",
    "    \n",
    "    x0 = jnp.zeros(10)\n",
    "    u = jnp.array([0.0, w0])\n",
    "    \n",
    "    f = evalf(x0, p_tuple, u)\n",
    "\n",
    "    assert f[8] > 0.0  # angular acceleration\n",
    "    assert np.all(f[:8] == 0.0) & np.all(f[9:] == 0.0)\n",
    "\n",
    "print(f\"Passed the spinning test ({n_trials} trials)\")"
   ]
  },
  {
   "cell_type": "code",
   "execution_count": 83,
   "id": "6a15b22d-35b7-4d30-8b11-f498bbe86ce8",
   "metadata": {},
   "outputs": [
    {
     "name": "stdout",
     "output_type": "stream",
     "text": [
      "Passed the level turn test (1000 trials)\n"
     ]
    }
   ],
   "source": [
    "# 5. Level Turn\n",
    "n_trials = 1000\n",
    "for _ in range(n_trials):\n",
    "    v0 = np.random.rand() * 10.0\n",
    "    w0 = np.random.rand() * np.pi/2\n",
    "    \n",
    "    x0 = jnp.zeros(10)\n",
    "    x0 = x0.at[7].set(v0)  # v\n",
    "    u = jnp.array([v0, w0])\n",
    "    \n",
    "    f = evalf(x0, p_tuple, u)\n",
    "\n",
    "    assert f[0] == 0  # ? @FIXME, Inwhi\n",
    "    assert f[1] < 0  # ? @FIXME, Inwhi\n",
    "    assert f[2] == 0  # ? @FIXME, Inwhi\n",
    "    assert f[3] == 0  # ? @FIXME, Inwhi\n",
    "    assert f[4] == x0[7]  # longitudinal speed\n",
    "    assert f[5] == 0.0  # zero lateral speed\n",
    "    assert f[6] == 0.0  # zero angular speed\n",
    "    assert f[7] < 0.0  # drag\n",
    "    assert f[8] > 0  # angular acceleration\n",
    "    assert f[9] == 0.0  # no speed delta needed\n",
    "\n",
    "print(f\"Passed the level turn test ({n_trials} trials)\")"
   ]
  },
  {
   "cell_type": "code",
   "execution_count": null,
   "id": "f2296d4f-ca7c-4ef8-a21e-7a941325f814",
   "metadata": {},
   "outputs": [],
   "source": []
  }
 ],
 "metadata": {
  "kernelspec": {
   "display_name": "Python (base)",
   "language": "python",
   "name": "python_base"
  },
  "language_info": {
   "codemirror_mode": {
    "name": "ipython",
    "version": 3
   },
   "file_extension": ".py",
   "mimetype": "text/x-python",
   "name": "python",
   "nbconvert_exporter": "python",
   "pygments_lexer": "ipython3",
   "version": "3.12.1"
  }
 },
 "nbformat": 4,
 "nbformat_minor": 5
}
